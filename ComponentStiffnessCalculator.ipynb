{
 "cells": [
  {
   "cell_type": "code",
   "execution_count": 2,
   "id": "3907b3c9",
   "metadata": {},
   "outputs": [
    {
     "data": {
      "application/vnd.jupyter.widget-view+json": {
       "model_id": "3bea98dfbcf04e0fba1d7a6b68b874d3",
       "version_major": 2,
       "version_minor": 0
      },
      "text/plain": [
       "HBox(children=(VBox(children=(Label(value='Bolt Info'), HBox(children=(Label(value='Nominal Size'), Dropdown(o…"
      ]
     },
     "execution_count": 2,
     "metadata": {},
     "output_type": "execute_result"
    }
   ],
   "source": [
    "import ipywidgets as widgets\n",
    "\n",
    "bolt_info_layout = widgets.VBox([\n",
    "    widgets.Label(value=\"Bolt Info\"),\n",
    "\n",
    "    widgets.HBox([widgets.Label(value=\"Nominal Size\"), widgets.Dropdown(options=[\"M16\", \"M20\", \"M24\", \"M30\", \"M36\", \"M42\", \"M48\", \"M56\", \"M64\"], value=\"M16\")]),\n",
    "    widgets.IntText(value=7, description='Any:', disabled=False)\n",
    "])\n",
    "\n",
    "member_info_layout = widgets.VBox([\n",
    "    widgets.HBox([widgets.Label(value=\"The $m$ in $E=mc^2$:\"), widgets.FloatSlider()]),\n",
    "    widgets.IntText(value=7, description='Any:', disabled=False)\n",
    "])\n",
    "\n",
    "\n",
    "ui = widgets.HBox([\n",
    "    bolt_info_layout, \n",
    "    member_info_layout\n",
    "])\n",
    "ui"
   ]
  },
  {
   "cell_type": "code",
   "execution_count": 11,
   "id": "b0f9f20b",
   "metadata": {},
   "outputs": [],
   "source": [
    "from properties import BoltMetric\n"
   ]
  }
 ],
 "metadata": {
  "kernelspec": {
   "display_name": "env",
   "language": "python",
   "name": "python3"
  },
  "language_info": {
   "codemirror_mode": {
    "name": "ipython",
    "version": 3
   },
   "file_extension": ".py",
   "mimetype": "text/x-python",
   "name": "python",
   "nbconvert_exporter": "python",
   "pygments_lexer": "ipython3",
   "version": "3.13.7"
  }
 },
 "nbformat": 4,
 "nbformat_minor": 5
}
