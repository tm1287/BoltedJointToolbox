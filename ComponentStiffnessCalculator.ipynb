{
 "cells": [
  {
   "cell_type": "code",
   "execution_count": 4,
   "id": "3907b3c9",
   "metadata": {},
   "outputs": [
    {
     "data": {
      "application/vnd.jupyter.widget-view+json": {
       "model_id": "35cffb65fe4f4b7cb2ff705b19b36552",
       "version_major": 2,
       "version_minor": 0
      },
      "text/plain": [
       "HBox(children=(VBox(children=(Label(value='Bolt Info'), Checkbox(value=False, description='Tapped Hole?'), HBo…"
      ]
     },
     "execution_count": 4,
     "metadata": {},
     "output_type": "execute_result"
    }
   ],
   "source": [
    "from ipywidgets import Layout, HBox, VBox, Label, Checkbox, FloatText, Dropdown, BoundedIntText\n",
    "from properties import BoltMetric, Member\n",
    "\n",
    "is_tapped_hole_checkbox = Checkbox(value=False, description='Tapped Hole?')\n",
    "engagement_length_input = HBox([\n",
    "    Label(value=\"Thread Engagement Length:\"),\n",
    "    FloatText(value=10, disabled=False),\n",
    "    Dropdown(options=['mm', 'cm', 'm'], layout=Layout(width=\"auto\"))\n",
    "])\n",
    "\n",
    "# Function to update visibility based on checkbox state\n",
    "def update_isTappedHole_visibility(checked):\n",
    "    if checked:\n",
    "        engagement_length_input.layout.display = 'flex'\n",
    "    else:\n",
    "        engagement_length_input.layout.display = 'none'\n",
    "\n",
    "# Connect the checkbox to the update function\n",
    "is_tapped_hole_checkbox.observe(lambda change: update_isTappedHole_visibility(change['new']), names='value')\n",
    "engagement_length_input.layout.display = 'none'\n",
    "\n",
    "bolt_info_layout = VBox([\n",
    "    Label(value=\"Bolt Info\"),\n",
    "    is_tapped_hole_checkbox,\n",
    "    HBox([Label(value=\"Nom. Size:\"), Dropdown(options=BoltMetric.dimensional_props.get_entries())]),\n",
    "    HBox([Label(value=\"Class:\"), Dropdown(options=BoltMetric.class_props.get_entries())]),\n",
    "    HBox([Label(value=\"Material:\"), Dropdown(options=BoltMetric.material_props.get_entries())]),\n",
    "    HBox([Label(value=\"Length:\"), FloatText(value=10.0, disabled=False), Dropdown(options=['mm', 'cm', 'm'], layout=Layout(width=\"auto\"))]),\n",
    "    HBox([Label(value=\"Material in grip thickness:\"), FloatText(value=10.0, disabled=False), Dropdown(options=['mm', 'cm', 'm'], layout=Layout(width=\"auto\"))]),\n",
    "    engagement_length_input,\n",
    "], layout=Layout(align_items='flex-start'))\n",
    "\n",
    "\n",
    "\n",
    "# TODO: Styling breaks down after 8 members\n",
    "member_count_input = BoundedIntText(value=1, min=0, max=8, layout=Layout(width=\"auto\"))\n",
    "\n",
    "# Container for member rows\n",
    "member_rows_container = VBox([])\n",
    "\n",
    "# Function to create a member row\n",
    "def create_member_row(member_index):\n",
    "    return HBox([\n",
    "        Label(value=f\"{member_index + 1}:\"),\n",
    "        FloatText(value=5.0, description='Thickness:', min=0.1, max=100.0),\n",
    "        Dropdown(options=['mm', 'cm', 'm'], value='mm', layout=Layout(width=\"auto\")),\n",
    "        Dropdown(options=Member.material_props.get_entries(), description='Material:')\n",
    "    ], layout=Layout(margin='1px'))\n",
    "\n",
    "# Function to update member rows based on count\n",
    "def update_member_rows(change):\n",
    "    new_count = change['new']\n",
    "    current_count = len(member_rows_container.children)\n",
    "    \n",
    "    if new_count > current_count:\n",
    "        # Add new rows\n",
    "        for i in range(current_count, new_count):\n",
    "            member_rows_container.children = list(member_rows_container.children) + [create_member_row(i)]\n",
    "    elif new_count < current_count:\n",
    "        # Remove excess rows\n",
    "        member_rows_container.children = list(member_rows_container.children)[:new_count]\n",
    "\n",
    "# Connect the count input to the update function\n",
    "member_count_input.observe(update_member_rows, names='value')\n",
    "\n",
    "# Initialize with one member\n",
    "member_count_input.value = 1\n",
    "update_member_rows({'new': 1})\n",
    "\n",
    "# Scrollable container for members\n",
    "scrollable_members = VBox([\n",
    "    member_rows_container\n",
    "], layout=Layout(\n",
    "    max_height='300px',\n",
    "    overflow_y='auto',\n",
    "    border='1px solid #ccc',\n",
    "    padding='5px'\n",
    "))\n",
    "\n",
    "member_info_layout = VBox([\n",
    "    Label(value=\"Member Info\"),\n",
    "    HBox([Label(value=\"No. of Members:\"), member_count_input]),\n",
    "    scrollable_members\n",
    "], layout=Layout(align_items='flex-start'))\n",
    "\n",
    "ui = HBox([\n",
    "    bolt_info_layout, \n",
    "    member_info_layout\n",
    "])\n",
    "ui"
   ]
  },
  {
   "cell_type": "code",
   "execution_count": null,
   "id": "b0f9f20b",
   "metadata": {},
   "outputs": [],
   "source": [
    "\n"
   ]
  }
 ],
 "metadata": {
  "kernelspec": {
   "display_name": "env",
   "language": "python",
   "name": "python3"
  },
  "language_info": {
   "codemirror_mode": {
    "name": "ipython",
    "version": 3
   },
   "file_extension": ".py",
   "mimetype": "text/x-python",
   "name": "python",
   "nbconvert_exporter": "python",
   "pygments_lexer": "ipython3",
   "version": "3.13.7"
  }
 },
 "nbformat": 4,
 "nbformat_minor": 5
}
